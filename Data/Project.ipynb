{
 "cells": [
  {
   "cell_type": "code",
   "execution_count": 132,
   "id": "e11c8356-7dd1-4a50-a1ef-cfae00a48b52",
   "metadata": {},
   "outputs": [],
   "source": [
    "#importing \n",
    "import pandas as pd\n",
    "from pathlib import Path\n",
    "import numpy as np"
   ]
  },
  {
   "cell_type": "code",
   "execution_count": 133,
   "id": "8df81218-b783-472d-b18d-20c0c8b44a7f",
   "metadata": {},
   "outputs": [],
   "source": [
    "#importing csv data\n",
    "csvluxury = Path(\"Luxury_goods.csv\")\n",
    "csvbigmac1 = Path(\"big_mac_index/big-mac-full-index.csv\")\n",
    "csvpriceindex = Path(\"price_index_by_city/PropertyPriceIndexByCity_2021.csv\")"
   ]
  },
  {
   "cell_type": "code",
   "execution_count": 155,
   "id": "5082deca-2505-41fc-a2d3-80dc4f20b205",
   "metadata": {},
   "outputs": [
    {
     "data": {
      "text/html": [
       "<div>\n",
       "<style scoped>\n",
       "    .dataframe tbody tr th:only-of-type {\n",
       "        vertical-align: middle;\n",
       "    }\n",
       "\n",
       "    .dataframe tbody tr th {\n",
       "        vertical-align: top;\n",
       "    }\n",
       "\n",
       "    .dataframe thead th {\n",
       "        text-align: right;\n",
       "    }\n",
       "</style>\n",
       "<table border=\"1\" class=\"dataframe\">\n",
       "  <thead>\n",
       "    <tr style=\"text-align: right;\">\n",
       "      <th></th>\n",
       "      <th>Price To Income Ratio</th>\n",
       "      <th>Mortgage As A Percentage Of Income</th>\n",
       "      <th>Affordability Index</th>\n",
       "    </tr>\n",
       "    <tr>\n",
       "      <th>country</th>\n",
       "      <th></th>\n",
       "      <th></th>\n",
       "      <th></th>\n",
       "    </tr>\n",
       "  </thead>\n",
       "  <tbody>\n",
       "    <tr>\n",
       "      <th>Afghanistan</th>\n",
       "      <td>12.030000</td>\n",
       "      <td>159.320000</td>\n",
       "      <td>0.630000</td>\n",
       "    </tr>\n",
       "    <tr>\n",
       "      <th>Albania</th>\n",
       "      <td>16.210000</td>\n",
       "      <td>126.680000</td>\n",
       "      <td>0.790000</td>\n",
       "    </tr>\n",
       "    <tr>\n",
       "      <th>Algeria</th>\n",
       "      <td>26.330000</td>\n",
       "      <td>241.730000</td>\n",
       "      <td>0.410000</td>\n",
       "    </tr>\n",
       "    <tr>\n",
       "      <th>Argentina</th>\n",
       "      <td>24.610000</td>\n",
       "      <td>1124.460000</td>\n",
       "      <td>0.090000</td>\n",
       "    </tr>\n",
       "    <tr>\n",
       "      <th>Armenia</th>\n",
       "      <td>17.790000</td>\n",
       "      <td>224.230000</td>\n",
       "      <td>0.450000</td>\n",
       "    </tr>\n",
       "    <tr>\n",
       "      <th>...</th>\n",
       "      <td>...</td>\n",
       "      <td>...</td>\n",
       "      <td>...</td>\n",
       "    </tr>\n",
       "    <tr>\n",
       "      <th>United Kingdom</th>\n",
       "      <td>9.683333</td>\n",
       "      <td>64.847778</td>\n",
       "      <td>1.644444</td>\n",
       "    </tr>\n",
       "    <tr>\n",
       "      <th>United States</th>\n",
       "      <td>4.403120</td>\n",
       "      <td>32.252000</td>\n",
       "      <td>4.016560</td>\n",
       "    </tr>\n",
       "    <tr>\n",
       "      <th>Uruguay</th>\n",
       "      <td>16.750000</td>\n",
       "      <td>164.200000</td>\n",
       "      <td>0.610000</td>\n",
       "    </tr>\n",
       "    <tr>\n",
       "      <th>Uzbekistan</th>\n",
       "      <td>15.160000</td>\n",
       "      <td>332.960000</td>\n",
       "      <td>0.300000</td>\n",
       "    </tr>\n",
       "    <tr>\n",
       "      <th>Vietnam</th>\n",
       "      <td>20.055000</td>\n",
       "      <td>215.675000</td>\n",
       "      <td>0.470000</td>\n",
       "    </tr>\n",
       "  </tbody>\n",
       "</table>\n",
       "<p>109 rows × 3 columns</p>\n",
       "</div>"
      ],
      "text/plain": [
       "                 Price To Income Ratio  Mortgage As A Percentage Of Income  \\\n",
       "country                                                                      \n",
       " Afghanistan                 12.030000                          159.320000   \n",
       " Albania                     16.210000                          126.680000   \n",
       " Algeria                     26.330000                          241.730000   \n",
       " Argentina                   24.610000                         1124.460000   \n",
       " Armenia                     17.790000                          224.230000   \n",
       "...                                ...                                 ...   \n",
       " United Kingdom               9.683333                           64.847778   \n",
       " United States                4.403120                           32.252000   \n",
       " Uruguay                     16.750000                          164.200000   \n",
       " Uzbekistan                  15.160000                          332.960000   \n",
       " Vietnam                     20.055000                          215.675000   \n",
       "\n",
       "                 Affordability Index  \n",
       "country                               \n",
       " Afghanistan                0.630000  \n",
       " Albania                    0.790000  \n",
       " Algeria                    0.410000  \n",
       " Argentina                  0.090000  \n",
       " Armenia                    0.450000  \n",
       "...                              ...  \n",
       " United Kingdom             1.644444  \n",
       " United States              4.016560  \n",
       " Uruguay                    0.610000  \n",
       " Uzbekistan                 0.300000  \n",
       " Vietnam                    0.470000  \n",
       "\n",
       "[109 rows x 3 columns]"
      ]
     },
     "execution_count": 155,
     "metadata": {},
     "output_type": "execute_result"
    }
   ],
   "source": [
    "#reading in price index for 2021\n",
    "data_priceindex = pd.read_csv(csvpriceindex)\n",
    "data_priceindex = data_priceindex[[\"City\", \"Price To Income Ratio\", \"Mortgage As A Percentage Of Income\", \"Affordability Index\"]]\n",
    "#splitting city into 3 new columns, city, state, country. filling country NanN value with the values in the state column then groupby \n",
    "data_priceindex[[\"city\",\"state\",\"country\"]] = data_priceindex[\"City\"].str.split(\",\", expand = True)\n",
    "data_priceindex.replace(to_replace=[None], value=np.nan, inplace=True)\n",
    "data_priceindex.loc[data_priceindex['country'].isnull(),'country'] = data_priceindex['state']\n",
    "data_priceindex = data_priceindex[[\"country\",\"Price To Income Ratio\", \"Mortgage As A Percentage Of Income\", \"Affordability Index\"]].groupby(\"country\").mean()\n",
    "data_priceindex"
   ]
  },
  {
   "cell_type": "code",
   "execution_count": null,
   "id": "0f5172a1-9122-4a1b-b3e2-33f5d53b68be",
   "metadata": {},
   "outputs": [],
   "source": []
  },
  {
   "cell_type": "code",
   "execution_count": null,
   "id": "56e28789-b9a5-47cd-8ef1-9a93d9b8dca1",
   "metadata": {},
   "outputs": [],
   "source": [
    "# Data cleaning"
   ]
  },
  {
   "cell_type": "code",
   "execution_count": 22,
   "id": "a02c659b-25ec-4e4b-8870-edac484195da",
   "metadata": {},
   "outputs": [],
   "source": [
    "## Reading and cleaning data for luxury goods"
   ]
  },
  {
   "cell_type": "code",
   "execution_count": 118,
   "id": "3e0b4ef6-6213-4871-8dfe-bd2b3ea68f92",
   "metadata": {},
   "outputs": [
    {
     "name": "stderr",
     "output_type": "stream",
     "text": [
      "C:\\Users\\jacky\\anaconda3\\lib\\site-packages\\pandas\\core\\frame.py:3641: SettingWithCopyWarning: \n",
      "A value is trying to be set on a copy of a slice from a DataFrame.\n",
      "Try using .loc[row_indexer,col_indexer] = value instead\n",
      "\n",
      "See the caveats in the documentation: https://pandas.pydata.org/pandas-docs/stable/user_guide/indexing.html#returning-a-view-versus-a-copy\n",
      "  self[k1] = value[k2]\n"
     ]
    },
    {
     "data": {
      "text/plain": [
       "<AxesSubplot:title={'center':'S&P Global Luxury Index from 10 - 21'}, xlabel='year'>"
      ]
     },
     "execution_count": 118,
     "metadata": {},
     "output_type": "execute_result"
    },
    {
     "data": {
      "image/png": "[encoded data removed]",
      "text/plain": [
       "<Figure size 432x288 with 1 Axes>"
      ]
     },
     "metadata": {
      "needs_background": "light"
     },
     "output_type": "display_data"
    }
   ],
   "source": [
    "#reading data\n",
    "data = pd.read_csv(csvluxury)\n",
    "\n",
    "#slice data to get the Date and Price\n",
    "data_1 = data.iloc[:, [0,1]]\n",
    "\n",
    "#separate dates into month and year column\n",
    "data_1[[\"month\", \"year\"]] = data_1[\"Date\"].str.split(\" \", expand = True)\n",
    "\n",
    "#setting price as float and removing comma\n",
    "data_2 = data_1.drop(columns = [\"Date\", \"month\"])\n",
    "data_2['Price'] = data_2['Price'].str.replace(',','')\n",
    "data_2['Price'] = data_2['Price'].astype(float, errors = 'raise')\n",
    "\n",
    "#groupby years for the average yearly price and dropping years that does not have 12 months of data\n",
    "data_grp = data_2.groupby(\"year\").mean()\n",
    "luxury_data = data_grp.drop(index = [\"09\", \"22\"])\n",
    "luxury_data.plot(title = \"S&P Global Luxury Index from 10 - 21\")"
   ]
  },
  {
   "cell_type": "code",
   "execution_count": null,
   "id": "170de70e-6a70-48cd-9548-18469eeec4ad",
   "metadata": {},
   "outputs": [],
   "source": [
    "# Reading and cleaning data for big mac index"
   ]
  },
  {
   "cell_type": "code",
   "execution_count": 152,
   "id": "75f1691a-3e82-48cb-8095-22f0be69fa56",
   "metadata": {},
   "outputs": [
    {
     "data": {
      "text/plain": [
       "<AxesSubplot:title={'center':'Australian big mac index from 2000 to 2021'}, xlabel='year'>"
      ]
     },
     "execution_count": 152,
     "metadata": {},
     "output_type": "execute_result"
    },
    {
     "data": {
      "image/png": "[encoded data removed]",
      "text/plain": [
       "<Figure size 432x288 with 1 Axes>"
      ]
     },
     "metadata": {
      "needs_background": "light"
     },
     "output_type": "display_data"
    }
   ],
   "source": [
    "#reading in data\n",
    "bigmac = pd.read_csv(csvbigmac1)\n",
    "bigmac = bigmac.iloc[:, [0,3,6]]\n",
    "bigmac.head()\n",
    "\n",
    "#slicing date column by dates, country and calculating average prices\n",
    "bigmac[[\"year\", \"month\", \"day\"]] = bigmac[\"date\"].str.split(\"-\", expand = True)\n",
    "bigmac = bigmac.drop(columns = [\"date\", \"month\", \"day\"]).set_index(\"name\")\n",
    "\n",
    "#average yearly price of big mac in Argentina \n",
    "ARG = bigmac.loc[\"Argentina\"]\n",
    "ARG.groupby(\"year\").mean()\n",
    "\n",
    "#average yearly price of big mac in Australia\n",
    "AUS = bigmac.loc[\"Australia\"]\n",
    "AUS = AUS.groupby(\"year\").mean()\n",
    "AUS.plot(title = \"Australian big mac index from 2000 to 2021\")"
   ]
  },
  {
   "cell_type": "code",
   "execution_count": null,
   "id": "eec5e599-919e-4050-b4e4-fb3ecaf8400d",
   "metadata": {},
   "outputs": [],
   "source": []
  }
 ],
 "metadata": {
  "kernelspec": {
   "display_name": "Python 3 (ipykernel)",
   "language": "python",
   "name": "python3"
  },
  "language_info": {
   "codemirror_mode": {
    "name": "ipython",
    "version": 3
   },
   "file_extension": ".py",
   "mimetype": "text/x-python",
   "name": "python",
   "nbconvert_exporter": "python",
   "pygments_lexer": "ipython3",
   "version": "3.9.7"
  }
 },
 "nbformat": 4,
 "nbformat_minor": 5
}
